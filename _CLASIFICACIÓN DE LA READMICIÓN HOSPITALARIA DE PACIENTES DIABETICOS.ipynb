{
 "cells": [
  {
   "cell_type": "markdown",
   "metadata": {},
   "source": [
    "# CLASIFICACIÓN DE LA READMICIÓN HOSPITALARIA DE PACIENTES DIABETICOS"
   ]
  },
  {
   "cell_type": "markdown",
   "metadata": {},
   "source": [
    "#### Desarrollador: Juan Felipe León G\n",
    "#### 06/02/2021"
   ]
  },
  {
   "cell_type": "markdown",
   "metadata": {},
   "source": [
    "## 0. Importar librerias"
   ]
  },
  {
   "cell_type": "code",
   "execution_count": 1,
   "metadata": {},
   "outputs": [],
   "source": [
    "import numpy as np\n",
    "import pandas as pd\n",
    "import os\n",
    "import matplotlib.pyplot as plt # plotting\n",
    "from matplotlib.colors import ListedColormap\n",
    "import seaborn as sns\n",
    "\n",
    "from sklearn.model_selection import train_test_split\n",
    "from sklearn.ensemble import RandomForestClassifier #borrar\n",
    "import xgboost as xgb\n",
    "from sklearn.svm import LinearSVC\n",
    "from sklearn.linear_model import LogisticRegression\n",
    "from sklearn.tree import DecisionTreeClassifier\n",
    "from sklearn.naive_bayes import MultinomialNB\n",
    "from sklearn.metrics import confusion_matrix\n",
    "from sklearn import metrics\n",
    "from sklearn.model_selection import cross_val_score\n",
    "from sklearn.preprocessing import StandardScaler\n",
    "\n",
    "from kneed import KneeLocator\n",
    "from sklearn.datasets import make_blobs\n",
    "from sklearn.cluster import KMeans\n",
    "from sklearn.metrics import silhouette_score"
   ]
  },
  {
   "cell_type": "markdown",
   "metadata": {},
   "source": [
    "## 1. Cargar data set"
   ]
  },
  {
   "cell_type": "code",
   "execution_count": 2,
   "metadata": {
    "scrolled": true
   },
   "outputs": [
    {
     "name": "stdout",
     "output_type": "stream",
     "text": [
      "Diabetic_data read successfully\n",
      "        encounter_id  patient_nbr             race  gender      age weight  \\\n",
      "0            2278392      8222157        Caucasian  Female   [0-10)      ?   \n",
      "1             149190     55629189        Caucasian  Female  [10-20)      ?   \n",
      "2              64410     86047875  AfricanAmerican  Female  [20-30)      ?   \n",
      "3             500364     82442376        Caucasian    Male  [30-40)      ?   \n",
      "4              16680     42519267        Caucasian    Male  [40-50)      ?   \n",
      "...              ...          ...              ...     ...      ...    ...   \n",
      "101761     443847548    100162476  AfricanAmerican    Male  [70-80)      ?   \n",
      "101762     443847782     74694222  AfricanAmerican  Female  [80-90)      ?   \n",
      "101763     443854148     41088789        Caucasian    Male  [70-80)      ?   \n",
      "101764     443857166     31693671        Caucasian  Female  [80-90)      ?   \n",
      "101765     443867222    175429310        Caucasian    Male  [70-80)      ?   \n",
      "\n",
      "        admission_type_id  discharge_disposition_id  admission_source_id  \\\n",
      "0                       6                        25                    1   \n",
      "1                       1                         1                    7   \n",
      "2                       1                         1                    7   \n",
      "3                       1                         1                    7   \n",
      "4                       1                         1                    7   \n",
      "...                   ...                       ...                  ...   \n",
      "101761                  1                         3                    7   \n",
      "101762                  1                         4                    5   \n",
      "101763                  1                         1                    7   \n",
      "101764                  2                         3                    7   \n",
      "101765                  1                         1                    7   \n",
      "\n",
      "        time_in_hospital  ... citoglipton insulin  glyburide-metformin  \\\n",
      "0                      1  ...          No      No                   No   \n",
      "1                      3  ...          No      Up                   No   \n",
      "2                      2  ...          No      No                   No   \n",
      "3                      2  ...          No      Up                   No   \n",
      "4                      1  ...          No  Steady                   No   \n",
      "...                  ...  ...         ...     ...                  ...   \n",
      "101761                 3  ...          No    Down                   No   \n",
      "101762                 5  ...          No  Steady                   No   \n",
      "101763                 1  ...          No    Down                   No   \n",
      "101764                10  ...          No      Up                   No   \n",
      "101765                 6  ...          No      No                   No   \n",
      "\n",
      "        glipizide-metformin  glimepiride-pioglitazone  \\\n",
      "0                        No                        No   \n",
      "1                        No                        No   \n",
      "2                        No                        No   \n",
      "3                        No                        No   \n",
      "4                        No                        No   \n",
      "...                     ...                       ...   \n",
      "101761                   No                        No   \n",
      "101762                   No                        No   \n",
      "101763                   No                        No   \n",
      "101764                   No                        No   \n",
      "101765                   No                        No   \n",
      "\n",
      "        metformin-rosiglitazone  metformin-pioglitazone  change diabetesMed  \\\n",
      "0                            No                      No      No          No   \n",
      "1                            No                      No      Ch         Yes   \n",
      "2                            No                      No      No         Yes   \n",
      "3                            No                      No      Ch         Yes   \n",
      "4                            No                      No      Ch         Yes   \n",
      "...                         ...                     ...     ...         ...   \n",
      "101761                       No                      No      Ch         Yes   \n",
      "101762                       No                      No      No         Yes   \n",
      "101763                       No                      No      Ch         Yes   \n",
      "101764                       No                      No      Ch         Yes   \n",
      "101765                       No                      No      No          No   \n",
      "\n",
      "       readmitted  \n",
      "0              NO  \n",
      "1             >30  \n",
      "2              NO  \n",
      "3              NO  \n",
      "4              NO  \n",
      "...           ...  \n",
      "101761        >30  \n",
      "101762         NO  \n",
      "101763         NO  \n",
      "101764         NO  \n",
      "101765         NO  \n",
      "\n",
      "[101766 rows x 50 columns]\n"
     ]
    }
   ],
   "source": [
    "# Cargue de diabetic_data\n",
    "path = os.path.join('c:' + os.sep, 'Users', 'n0306029', 'Desktop', 'dataset_diabetes', 'diabetic_data.csv')\n",
    "diabetic_data = pd.read_csv(path)\n",
    "print (\"Diabetic_data read successfully\")\n",
    "print(diabetic_data)"
   ]
  },
  {
   "cell_type": "markdown",
   "metadata": {},
   "source": [
    "## 2. EDA y preparación de datos"
   ]
  },
  {
   "cell_type": "markdown",
   "metadata": {},
   "source": [
    "### 2.1 Tratamiento de valores nulos"
   ]
  },
  {
   "cell_type": "code",
   "execution_count": 3,
   "metadata": {},
   "outputs": [],
   "source": [
    " #En el data set los valores nulos aparecen con el caracter \"?\" Acá se reemplazan los \"?\" por NaN.\n",
    "diabetic_data = diabetic_data.replace(\"?\",np.nan)"
   ]
  },
  {
   "cell_type": "code",
   "execution_count": 4,
   "metadata": {},
   "outputs": [
    {
     "data": {
      "text/html": [
       "<div>\n",
       "<style scoped>\n",
       "    .dataframe tbody tr th:only-of-type {\n",
       "        vertical-align: middle;\n",
       "    }\n",
       "\n",
       "    .dataframe tbody tr th {\n",
       "        vertical-align: top;\n",
       "    }\n",
       "\n",
       "    .dataframe thead th {\n",
       "        text-align: right;\n",
       "    }\n",
       "</style>\n",
       "<table border=\"1\" class=\"dataframe\">\n",
       "  <thead>\n",
       "    <tr style=\"text-align: right;\">\n",
       "      <th></th>\n",
       "      <th>encounter_id</th>\n",
       "      <th>patient_nbr</th>\n",
       "      <th>race</th>\n",
       "      <th>gender</th>\n",
       "      <th>age</th>\n",
       "      <th>weight</th>\n",
       "      <th>admission_type_id</th>\n",
       "      <th>discharge_disposition_id</th>\n",
       "      <th>admission_source_id</th>\n",
       "      <th>time_in_hospital</th>\n",
       "      <th>...</th>\n",
       "      <th>citoglipton</th>\n",
       "      <th>insulin</th>\n",
       "      <th>glyburide-metformin</th>\n",
       "      <th>glipizide-metformin</th>\n",
       "      <th>glimepiride-pioglitazone</th>\n",
       "      <th>metformin-rosiglitazone</th>\n",
       "      <th>metformin-pioglitazone</th>\n",
       "      <th>change</th>\n",
       "      <th>diabetesMed</th>\n",
       "      <th>readmitted</th>\n",
       "    </tr>\n",
       "  </thead>\n",
       "  <tbody>\n",
       "    <tr>\n",
       "      <th>0</th>\n",
       "      <td>2278392</td>\n",
       "      <td>8222157</td>\n",
       "      <td>Caucasian</td>\n",
       "      <td>Female</td>\n",
       "      <td>[0-10)</td>\n",
       "      <td>NaN</td>\n",
       "      <td>6</td>\n",
       "      <td>25</td>\n",
       "      <td>1</td>\n",
       "      <td>1</td>\n",
       "      <td>...</td>\n",
       "      <td>No</td>\n",
       "      <td>No</td>\n",
       "      <td>No</td>\n",
       "      <td>No</td>\n",
       "      <td>No</td>\n",
       "      <td>No</td>\n",
       "      <td>No</td>\n",
       "      <td>No</td>\n",
       "      <td>No</td>\n",
       "      <td>NO</td>\n",
       "    </tr>\n",
       "    <tr>\n",
       "      <th>1</th>\n",
       "      <td>149190</td>\n",
       "      <td>55629189</td>\n",
       "      <td>Caucasian</td>\n",
       "      <td>Female</td>\n",
       "      <td>[10-20)</td>\n",
       "      <td>NaN</td>\n",
       "      <td>1</td>\n",
       "      <td>1</td>\n",
       "      <td>7</td>\n",
       "      <td>3</td>\n",
       "      <td>...</td>\n",
       "      <td>No</td>\n",
       "      <td>Up</td>\n",
       "      <td>No</td>\n",
       "      <td>No</td>\n",
       "      <td>No</td>\n",
       "      <td>No</td>\n",
       "      <td>No</td>\n",
       "      <td>Ch</td>\n",
       "      <td>Yes</td>\n",
       "      <td>&gt;30</td>\n",
       "    </tr>\n",
       "    <tr>\n",
       "      <th>2</th>\n",
       "      <td>64410</td>\n",
       "      <td>86047875</td>\n",
       "      <td>AfricanAmerican</td>\n",
       "      <td>Female</td>\n",
       "      <td>[20-30)</td>\n",
       "      <td>NaN</td>\n",
       "      <td>1</td>\n",
       "      <td>1</td>\n",
       "      <td>7</td>\n",
       "      <td>2</td>\n",
       "      <td>...</td>\n",
       "      <td>No</td>\n",
       "      <td>No</td>\n",
       "      <td>No</td>\n",
       "      <td>No</td>\n",
       "      <td>No</td>\n",
       "      <td>No</td>\n",
       "      <td>No</td>\n",
       "      <td>No</td>\n",
       "      <td>Yes</td>\n",
       "      <td>NO</td>\n",
       "    </tr>\n",
       "    <tr>\n",
       "      <th>3</th>\n",
       "      <td>500364</td>\n",
       "      <td>82442376</td>\n",
       "      <td>Caucasian</td>\n",
       "      <td>Male</td>\n",
       "      <td>[30-40)</td>\n",
       "      <td>NaN</td>\n",
       "      <td>1</td>\n",
       "      <td>1</td>\n",
       "      <td>7</td>\n",
       "      <td>2</td>\n",
       "      <td>...</td>\n",
       "      <td>No</td>\n",
       "      <td>Up</td>\n",
       "      <td>No</td>\n",
       "      <td>No</td>\n",
       "      <td>No</td>\n",
       "      <td>No</td>\n",
       "      <td>No</td>\n",
       "      <td>Ch</td>\n",
       "      <td>Yes</td>\n",
       "      <td>NO</td>\n",
       "    </tr>\n",
       "    <tr>\n",
       "      <th>4</th>\n",
       "      <td>16680</td>\n",
       "      <td>42519267</td>\n",
       "      <td>Caucasian</td>\n",
       "      <td>Male</td>\n",
       "      <td>[40-50)</td>\n",
       "      <td>NaN</td>\n",
       "      <td>1</td>\n",
       "      <td>1</td>\n",
       "      <td>7</td>\n",
       "      <td>1</td>\n",
       "      <td>...</td>\n",
       "      <td>No</td>\n",
       "      <td>Steady</td>\n",
       "      <td>No</td>\n",
       "      <td>No</td>\n",
       "      <td>No</td>\n",
       "      <td>No</td>\n",
       "      <td>No</td>\n",
       "      <td>Ch</td>\n",
       "      <td>Yes</td>\n",
       "      <td>NO</td>\n",
       "    </tr>\n",
       "  </tbody>\n",
       "</table>\n",
       "<p>5 rows × 50 columns</p>\n",
       "</div>"
      ],
      "text/plain": [
       "   encounter_id  patient_nbr             race  gender      age weight  \\\n",
       "0       2278392      8222157        Caucasian  Female   [0-10)    NaN   \n",
       "1        149190     55629189        Caucasian  Female  [10-20)    NaN   \n",
       "2         64410     86047875  AfricanAmerican  Female  [20-30)    NaN   \n",
       "3        500364     82442376        Caucasian    Male  [30-40)    NaN   \n",
       "4         16680     42519267        Caucasian    Male  [40-50)    NaN   \n",
       "\n",
       "   admission_type_id  discharge_disposition_id  admission_source_id  \\\n",
       "0                  6                        25                    1   \n",
       "1                  1                         1                    7   \n",
       "2                  1                         1                    7   \n",
       "3                  1                         1                    7   \n",
       "4                  1                         1                    7   \n",
       "\n",
       "   time_in_hospital  ... citoglipton insulin  glyburide-metformin  \\\n",
       "0                 1  ...          No      No                   No   \n",
       "1                 3  ...          No      Up                   No   \n",
       "2                 2  ...          No      No                   No   \n",
       "3                 2  ...          No      Up                   No   \n",
       "4                 1  ...          No  Steady                   No   \n",
       "\n",
       "   glipizide-metformin  glimepiride-pioglitazone  metformin-rosiglitazone  \\\n",
       "0                   No                        No                       No   \n",
       "1                   No                        No                       No   \n",
       "2                   No                        No                       No   \n",
       "3                   No                        No                       No   \n",
       "4                   No                        No                       No   \n",
       "\n",
       "   metformin-pioglitazone  change diabetesMed readmitted  \n",
       "0                      No      No          No         NO  \n",
       "1                      No      Ch         Yes        >30  \n",
       "2                      No      No         Yes         NO  \n",
       "3                      No      Ch         Yes         NO  \n",
       "4                      No      Ch         Yes         NO  \n",
       "\n",
       "[5 rows x 50 columns]"
      ]
     },
     "execution_count": 4,
     "metadata": {},
     "output_type": "execute_result"
    }
   ],
   "source": [
    "diabetic_data.head()"
   ]
  },
  {
   "cell_type": "code",
   "execution_count": 5,
   "metadata": {},
   "outputs": [
    {
     "name": "stdout",
     "output_type": "stream",
     "text": [
      "<class 'pandas.core.frame.DataFrame'>\n",
      "RangeIndex: 101766 entries, 0 to 101765\n",
      "Data columns (total 50 columns):\n",
      " #   Column                    Non-Null Count   Dtype \n",
      "---  ------                    --------------   ----- \n",
      " 0   encounter_id              101766 non-null  int64 \n",
      " 1   patient_nbr               101766 non-null  int64 \n",
      " 2   race                      99493 non-null   object\n",
      " 3   gender                    101766 non-null  object\n",
      " 4   age                       101766 non-null  object\n",
      " 5   weight                    3197 non-null    object\n",
      " 6   admission_type_id         101766 non-null  int64 \n",
      " 7   discharge_disposition_id  101766 non-null  int64 \n",
      " 8   admission_source_id       101766 non-null  int64 \n",
      " 9   time_in_hospital          101766 non-null  int64 \n",
      " 10  payer_code                61510 non-null   object\n",
      " 11  medical_specialty         51817 non-null   object\n",
      " 12  num_lab_procedures        101766 non-null  int64 \n",
      " 13  num_procedures            101766 non-null  int64 \n",
      " 14  num_medications           101766 non-null  int64 \n",
      " 15  number_outpatient         101766 non-null  int64 \n",
      " 16  number_emergency          101766 non-null  int64 \n",
      " 17  number_inpatient          101766 non-null  int64 \n",
      " 18  diag_1                    101745 non-null  object\n",
      " 19  diag_2                    101408 non-null  object\n",
      " 20  diag_3                    100343 non-null  object\n",
      " 21  number_diagnoses          101766 non-null  int64 \n",
      " 22  max_glu_serum             101766 non-null  object\n",
      " 23  A1Cresult                 101766 non-null  object\n",
      " 24  metformin                 101766 non-null  object\n",
      " 25  repaglinide               101766 non-null  object\n",
      " 26  nateglinide               101766 non-null  object\n",
      " 27  chlorpropamide            101766 non-null  object\n",
      " 28  glimepiride               101766 non-null  object\n",
      " 29  acetohexamide             101766 non-null  object\n",
      " 30  glipizide                 101766 non-null  object\n",
      " 31  glyburide                 101766 non-null  object\n",
      " 32  tolbutamide               101766 non-null  object\n",
      " 33  pioglitazone              101766 non-null  object\n",
      " 34  rosiglitazone             101766 non-null  object\n",
      " 35  acarbose                  101766 non-null  object\n",
      " 36  miglitol                  101766 non-null  object\n",
      " 37  troglitazone              101766 non-null  object\n",
      " 38  tolazamide                101766 non-null  object\n",
      " 39  examide                   101766 non-null  object\n",
      " 40  citoglipton               101766 non-null  object\n",
      " 41  insulin                   101766 non-null  object\n",
      " 42  glyburide-metformin       101766 non-null  object\n",
      " 43  glipizide-metformin       101766 non-null  object\n",
      " 44  glimepiride-pioglitazone  101766 non-null  object\n",
      " 45  metformin-rosiglitazone   101766 non-null  object\n",
      " 46  metformin-pioglitazone    101766 non-null  object\n",
      " 47  change                    101766 non-null  object\n",
      " 48  diabetesMed               101766 non-null  object\n",
      " 49  readmitted                101766 non-null  object\n",
      "dtypes: int64(13), object(37)\n",
      "memory usage: 38.8+ MB\n"
     ]
    },
    {
     "data": {
      "text/plain": [
       "encounter_id                101766\n",
       "patient_nbr                  71518\n",
       "race                             5\n",
       "gender                           3\n",
       "age                             10\n",
       "weight                           9\n",
       "admission_type_id                8\n",
       "discharge_disposition_id        26\n",
       "admission_source_id             17\n",
       "time_in_hospital                14\n",
       "payer_code                      17\n",
       "medical_specialty               72\n",
       "num_lab_procedures             118\n",
       "num_procedures                   7\n",
       "num_medications                 75\n",
       "number_outpatient               39\n",
       "number_emergency                33\n",
       "number_inpatient                21\n",
       "diag_1                         716\n",
       "diag_2                         748\n",
       "diag_3                         789\n",
       "number_diagnoses                16\n",
       "max_glu_serum                    4\n",
       "A1Cresult                        4\n",
       "metformin                        4\n",
       "repaglinide                      4\n",
       "nateglinide                      4\n",
       "chlorpropamide                   4\n",
       "glimepiride                      4\n",
       "acetohexamide                    2\n",
       "glipizide                        4\n",
       "glyburide                        4\n",
       "tolbutamide                      2\n",
       "pioglitazone                     4\n",
       "rosiglitazone                    4\n",
       "acarbose                         4\n",
       "miglitol                         4\n",
       "troglitazone                     2\n",
       "tolazamide                       3\n",
       "examide                          1\n",
       "citoglipton                      1\n",
       "insulin                          4\n",
       "glyburide-metformin              4\n",
       "glipizide-metformin              2\n",
       "glimepiride-pioglitazone         2\n",
       "metformin-rosiglitazone          2\n",
       "metformin-pioglitazone           2\n",
       "change                           2\n",
       "diabetesMed                      2\n",
       "readmitted                       3\n",
       "dtype: int64"
      ]
     },
     "execution_count": 5,
     "metadata": {},
     "output_type": "execute_result"
    }
   ],
   "source": [
    "# Se revisan las variables con una mayor proporción de valores nulos.\n",
    "diabetic_data.info()\n",
    "# Conteo de niveles unicos para cada variable\n",
    "diabetic_data.nunique()"
   ]
  },
  {
   "cell_type": "markdown",
   "metadata": {},
   "source": [
    "### 2.2 Eliminación de variables inútiles"
   ]
  },
  {
   "cell_type": "code",
   "execution_count": 6,
   "metadata": {},
   "outputs": [],
   "source": [
    "# Se descartan las columnas con cuya mayoria de registros tiene valor NaN y las variables con un (1) solo nivel\n",
    "diabetic_data = diabetic_data.drop(['weight','payer_code','medical_specialty','examide','citoglipton'],axis=1)"
   ]
  },
  {
   "cell_type": "markdown",
   "metadata": {},
   "source": [
    "### 2.3 Remapeo de variables"
   ]
  },
  {
   "cell_type": "code",
   "execution_count": 7,
   "metadata": {},
   "outputs": [],
   "source": [
    "# Se etiqueta nuevamente la variable objetivo agrupando los dos casos de reingreso en una sola categoria\n",
    "diabetic_data = diabetic_data.replace({\"NO\":0, \"<30\":1, \">30\":1})"
   ]
  },
  {
   "cell_type": "code",
   "execution_count": 8,
   "metadata": {},
   "outputs": [],
   "source": [
    "# Se etiqueta nuevamente la variable admission_type_id\n",
    "diabetic_data['admission_type_id'] = diabetic_data['admission_type_id'].replace({1:\"Emergency\",2:\"Urgent\",3:\"Elective\",4:\"Newborn\",5:np.nan,6:np.nan,7:\"Trauma Center\",8:np.nan,})"
   ]
  },
  {
   "cell_type": "code",
   "execution_count": 9,
   "metadata": {},
   "outputs": [],
   "source": [
    "# Se etiqueta nuevamente la variable mapped_discharge\n",
    "mapped_discharge = {1:\"Discharged to Home\",\n",
    "                    6:\"Discharged to Home\",\n",
    "                    8:\"Discharged to Home\",\n",
    "                    13:\"Discharged to Home\",\n",
    "                    19:\"Discharged to Home\",\n",
    "                    18:np.nan,25:np.nan,26:np.nan,\n",
    "                    2:\"Other\",3:\"Other\",4:\"Other\",\n",
    "                    5:\"Other\",7:\"Other\",9:\"Other\",\n",
    "                    10:\"Other\",11:\"Other\",12:\"Other\",\n",
    "                    14:\"Other\",15:\"Other\",16:\"Other\",\n",
    "                    17:\"Other\",20:\"Other\",21:\"Other\",\n",
    "                    22:\"Other\",23:\"Other\",24:\"Other\",\n",
    "                    27:\"Other\",28:\"Other\",29:\"Other\",30:\"Other\"}"
   ]
  },
  {
   "cell_type": "code",
   "execution_count": 10,
   "metadata": {},
   "outputs": [],
   "source": [
    "diabetic_data[\"discharge_disposition_id\"] = diabetic_data[\"discharge_disposition_id\"].replace(mapped_discharge)"
   ]
  },
  {
   "cell_type": "code",
   "execution_count": 11,
   "metadata": {},
   "outputs": [],
   "source": [
    "# Se etiqueta nuevamente la variable admission_source_id cambiando los códigos numericos por texto\n",
    "mapped_adm = {1:\"Referral\",2:\"Referral\",3:\"Referral\",\n",
    "              4:\"Other\",5:\"Other\",6:\"Other\",10:\"Other\",22:\"Other\",25:\"Other\",\n",
    "              9:\"Other\",8:\"Other\",14:\"Other\",13:\"Other\",11:\"Other\",\n",
    "              15:np.nan,17:np.nan,20:np.nan,21:np.nan,\n",
    "              7:\"Emergency\"}"
   ]
  },
  {
   "cell_type": "code",
   "execution_count": 12,
   "metadata": {},
   "outputs": [],
   "source": [
    "diabetic_data.admission_source_id = diabetic_data.admission_source_id.replace(mapped_adm)"
   ]
  },
  {
   "cell_type": "code",
   "execution_count": 13,
   "metadata": {},
   "outputs": [],
   "source": [
    "#Tratamiento de diag_1, diag_2 y diag_3 dado que cada una tiene al rededor de 700 niveles\n",
    "# Se define una funcion para mapear la cateogria del diagnostico al código\n",
    "def map_diagnosis(data, cols):\n",
    "    for col in cols:\n",
    "        data.loc[(data[col].str.contains(\"V\")) | (data[col].str.contains(\"E\")), col] = -1\n",
    "        data[col] = data[col].astype(np.float16)\n",
    "\n",
    "    for col in cols:\n",
    "        data[\"temp_diag\"] = np.nan\n",
    "        data.loc[(data[col]>=390) & (data[col]<=459) | (data[col]==785), \"temp_diag\"] = \"Circulatory\"\n",
    "        data.loc[(data[col]>=460) & (data[col]<=519) | (data[col]==786), \"temp_diag\"] = \"Respiratory\"\n",
    "        data.loc[(data[col]>=520) & (data[col]<=579) | (data[col]==787), \"temp_diag\"] = \"Digestive\"\n",
    "        data.loc[(data[col]>=250) & (data[col]<251), \"temp_diag\"] = \"Diabetes\"\n",
    "        data.loc[(data[col]>=800) & (data[col]<=999), \"temp_diag\"] = \"Injury\"\n",
    "        data.loc[(data[col]>=710) & (data[col]<=739), \"temp_diag\"] = \"Muscoloskeletal\"\n",
    "        data.loc[(data[col]>=580) & (data[col]<=629) | (data[col] == 788), \"temp_diag\"] = \"Genitourinary\"\n",
    "        data.loc[(data[col]>=140) & (data[col]<=239), \"temp_diag\"] = \"Neoplasms\"\n",
    "\n",
    "        data[\"temp_diag\"] = data[\"temp_diag\"].fillna(\"Other\")\n",
    "        data[col] = data[\"temp_diag\"]\n",
    "        data = data.drop(\"temp_diag\", axis=1)\n",
    "\n",
    "    return data"
   ]
  },
  {
   "cell_type": "code",
   "execution_count": 14,
   "metadata": {},
   "outputs": [],
   "source": [
    "diabetic_data = map_diagnosis(diabetic_data,[\"diag_1\",\"diag_2\",\"diag_3\"])"
   ]
  },
  {
   "cell_type": "markdown",
   "metadata": {},
   "source": [
    "### 2.4 Reasignación de tipos para algunas variables"
   ]
  },
  {
   "cell_type": "code",
   "execution_count": 15,
   "metadata": {},
   "outputs": [],
   "source": [
    "# Se convierten algunos datos numericos a categóricos\n",
    "diabetic_data = diabetic_data.astype({\"admission_type_id\":'object',\"discharge_disposition_id\":'object',\"admission_source_id\":'object', \"readmitted\":'category'})"
   ]
  },
  {
   "cell_type": "markdown",
   "metadata": {},
   "source": [
    "### 2.5 Eliminación de valores nulos: parte 2"
   ]
  },
  {
   "cell_type": "code",
   "execution_count": 16,
   "metadata": {},
   "outputs": [],
   "source": [
    "# Se eliminan todos los registros que contengan algún valor NaN en las columnas: race, diag_1, diag_2 y diag_3\n",
    "diabetic_data.dropna(subset=[\"race\",\"diag_1\",\"diag_2\",\"diag_3\"], inplace=True)\n",
    "diabetic_data = diabetic_data.reset_index(drop=True)\n"
   ]
  },
  {
   "cell_type": "markdown",
   "metadata": {},
   "source": [
    "### 2.6 Creación de matrices para almacenar las variables las etiquetas de clase"
   ]
  },
  {
   "cell_type": "code",
   "execution_count": 17,
   "metadata": {},
   "outputs": [],
   "source": [
    "# Se definen las matrices para las variables y las etiquetas\n",
    "# Esta matriz guarda las variables categoricas\n",
    "features = diabetic_data.drop(['patient_nbr', 'encounter_id', 'readmitted','time_in_hospital', 'num_lab_procedures', 'num_procedures',\n",
    "                               'num_medications','number_outpatient','number_emergency','number_inpatient'], axis=1)\n",
    "\n",
    "# Esta matriz guarda la variable objetivo\n",
    "labels = diabetic_data.readmitted\n"
   ]
  },
  {
   "cell_type": "markdown",
   "metadata": {},
   "source": [
    "### 2.7 Re-escalamiento de variables numericas"
   ]
  },
  {
   "cell_type": "code",
   "execution_count": 18,
   "metadata": {},
   "outputs": [],
   "source": [
    "# Se seleccionan las variables que se deben re-escalar\n",
    "num_features = diabetic_data[['time_in_hospital', 'num_lab_procedures', 'num_procedures','num_medications','number_outpatient','number_emergency','number_inpatient']]"
   ]
  },
  {
   "cell_type": "code",
   "execution_count": 19,
   "metadata": {},
   "outputs": [],
   "source": [
    "# Proceso de reescalamiento para variables númericas\n",
    "scaler = StandardScaler()\n",
    "scaled_features = pd.DataFrame(scaler.fit_transform(num_features))\n",
    "scaled_features = scaled_features.rename(columns={0:\"time_in_hospital\",1:\"num_lab_procedures\",2:\"num_procedures\",3:\"num_medications\",4:\"number_outpatient\",5:\"number_emergency\",6:\"number_inpatient\"})"
   ]
  },
  {
   "cell_type": "code",
   "execution_count": 32,
   "metadata": {
    "scrolled": true
   },
   "outputs": [
    {
     "ename": "ValueError",
     "evalue": "style is not supported for non-unique indices.",
     "output_type": "error",
     "traceback": [
      "\u001b[1;31m---------------------------------------------------------------------------\u001b[0m",
      "\u001b[1;31mValueError\u001b[0m                                Traceback (most recent call last)",
      "\u001b[1;32m<ipython-input-32-5b00ff7148c9>\u001b[0m in \u001b[0;36m<module>\u001b[1;34m\u001b[0m\n\u001b[0;32m      2\u001b[0m \u001b[0mmy_cmap\u001b[0m \u001b[1;33m=\u001b[0m \u001b[0mListedColormap\u001b[0m\u001b[1;33m(\u001b[0m\u001b[0msns\u001b[0m\u001b[1;33m.\u001b[0m\u001b[0mlight_palette\u001b[0m\u001b[1;33m(\u001b[0m\u001b[1;33m(\u001b[0m\u001b[1;36m250\u001b[0m\u001b[1;33m,\u001b[0m \u001b[1;36m100\u001b[0m\u001b[1;33m,\u001b[0m \u001b[1;36m50\u001b[0m\u001b[1;33m)\u001b[0m\u001b[1;33m,\u001b[0m \u001b[0minput\u001b[0m\u001b[1;33m=\u001b[0m\u001b[1;34m\"husl\"\u001b[0m\u001b[1;33m,\u001b[0m \u001b[0mn_colors\u001b[0m\u001b[1;33m=\u001b[0m\u001b[1;36m50\u001b[0m\u001b[1;33m)\u001b[0m\u001b[1;33m.\u001b[0m\u001b[0mas_hex\u001b[0m\u001b[1;33m(\u001b[0m\u001b[1;33m)\u001b[0m\u001b[1;33m)\u001b[0m\u001b[1;33m\u001b[0m\u001b[1;33m\u001b[0m\u001b[0m\n\u001b[0;32m      3\u001b[0m \u001b[0mcor_mat\u001b[0m \u001b[1;33m=\u001b[0m \u001b[0mfeatures\u001b[0m\u001b[1;33m.\u001b[0m\u001b[0mcorr\u001b[0m\u001b[1;33m(\u001b[0m\u001b[0mmethod\u001b[0m\u001b[1;33m=\u001b[0m\u001b[1;34m'pearson'\u001b[0m\u001b[1;33m)\u001b[0m\u001b[1;33m\u001b[0m\u001b[1;33m\u001b[0m\u001b[0m\n\u001b[1;32m----> 4\u001b[1;33m \u001b[0mcor_mat\u001b[0m\u001b[1;33m.\u001b[0m\u001b[0mstyle\u001b[0m\u001b[1;33m.\u001b[0m\u001b[0mbackground_gradient\u001b[0m\u001b[1;33m(\u001b[0m\u001b[0mcmap\u001b[0m\u001b[1;33m=\u001b[0m\u001b[0mmy_cmap\u001b[0m\u001b[1;33m,\u001b[0m \u001b[0maxis\u001b[0m \u001b[1;33m=\u001b[0m \u001b[1;36m0\u001b[0m\u001b[1;33m)\u001b[0m\u001b[1;33m\u001b[0m\u001b[1;33m\u001b[0m\u001b[0m\n\u001b[0m",
      "\u001b[1;32m~\\Anaconda3\\lib\\site-packages\\pandas\\core\\frame.py\u001b[0m in \u001b[0;36mstyle\u001b[1;34m(self)\u001b[0m\n\u001b[0;32m    836\u001b[0m         \u001b[1;32mfrom\u001b[0m \u001b[0mpandas\u001b[0m\u001b[1;33m.\u001b[0m\u001b[0mio\u001b[0m\u001b[1;33m.\u001b[0m\u001b[0mformats\u001b[0m\u001b[1;33m.\u001b[0m\u001b[0mstyle\u001b[0m \u001b[1;32mimport\u001b[0m \u001b[0mStyler\u001b[0m\u001b[1;33m\u001b[0m\u001b[1;33m\u001b[0m\u001b[0m\n\u001b[0;32m    837\u001b[0m \u001b[1;33m\u001b[0m\u001b[0m\n\u001b[1;32m--> 838\u001b[1;33m         \u001b[1;32mreturn\u001b[0m \u001b[0mStyler\u001b[0m\u001b[1;33m(\u001b[0m\u001b[0mself\u001b[0m\u001b[1;33m)\u001b[0m\u001b[1;33m\u001b[0m\u001b[1;33m\u001b[0m\u001b[0m\n\u001b[0m\u001b[0;32m    839\u001b[0m \u001b[1;33m\u001b[0m\u001b[0m\n\u001b[0;32m    840\u001b[0m     _shared_docs[\n",
      "\u001b[1;32m~\\Anaconda3\\lib\\site-packages\\pandas\\io\\formats\\style.py\u001b[0m in \u001b[0;36m__init__\u001b[1;34m(self, data, precision, table_styles, uuid, caption, table_attributes, cell_ids, na_rep)\u001b[0m\n\u001b[0;32m    143\u001b[0m             \u001b[0mdata\u001b[0m \u001b[1;33m=\u001b[0m \u001b[0mdata\u001b[0m\u001b[1;33m.\u001b[0m\u001b[0mto_frame\u001b[0m\u001b[1;33m(\u001b[0m\u001b[1;33m)\u001b[0m\u001b[1;33m\u001b[0m\u001b[1;33m\u001b[0m\u001b[0m\n\u001b[0;32m    144\u001b[0m         \u001b[1;32mif\u001b[0m \u001b[1;32mnot\u001b[0m \u001b[0mdata\u001b[0m\u001b[1;33m.\u001b[0m\u001b[0mindex\u001b[0m\u001b[1;33m.\u001b[0m\u001b[0mis_unique\u001b[0m \u001b[1;32mor\u001b[0m \u001b[1;32mnot\u001b[0m \u001b[0mdata\u001b[0m\u001b[1;33m.\u001b[0m\u001b[0mcolumns\u001b[0m\u001b[1;33m.\u001b[0m\u001b[0mis_unique\u001b[0m\u001b[1;33m:\u001b[0m\u001b[1;33m\u001b[0m\u001b[1;33m\u001b[0m\u001b[0m\n\u001b[1;32m--> 145\u001b[1;33m             \u001b[1;32mraise\u001b[0m \u001b[0mValueError\u001b[0m\u001b[1;33m(\u001b[0m\u001b[1;34m\"style is not supported for non-unique indices.\"\u001b[0m\u001b[1;33m)\u001b[0m\u001b[1;33m\u001b[0m\u001b[1;33m\u001b[0m\u001b[0m\n\u001b[0m\u001b[0;32m    146\u001b[0m \u001b[1;33m\u001b[0m\u001b[0m\n\u001b[0;32m    147\u001b[0m         \u001b[0mself\u001b[0m\u001b[1;33m.\u001b[0m\u001b[0mdata\u001b[0m \u001b[1;33m=\u001b[0m \u001b[0mdata\u001b[0m\u001b[1;33m\u001b[0m\u001b[1;33m\u001b[0m\u001b[0m\n",
      "\u001b[1;31mValueError\u001b[0m: style is not supported for non-unique indices."
     ]
    }
   ],
   "source": [
    "# Matriz de correlación: Se genera para descartar variable altamente correlacionadas\n",
    "my_cmap = ListedColormap(sns.light_palette((250, 100, 50), input=\"husl\", n_colors=50).as_hex())\n",
    "cor_mat = features.corr(method='pearson')\n",
    "cor_mat.style.background_gradient(cmap=my_cmap, axis = 0)\n"
   ]
  },
  {
   "cell_type": "markdown",
   "metadata": {},
   "source": [
    "### 2.8 Encoding"
   ]
  },
  {
   "cell_type": "code",
   "execution_count": 21,
   "metadata": {},
   "outputs": [],
   "source": [
    "#Renombrar columnas para hacer más fácil el encoding\n",
    "diabetic_data = diabetic_data.rename(columns={\"glyburide-metformin\":\"glyburide_metformin\",\"glipizide-metformin\":\"glipizide_metformin\",\n",
    "                                              \"glimepiride-pioglitazone\":\"glimepiride_pioglitazone\",\"metformin-rosiglitazone\":\"metformin_rosiglitazone\",\"metformin-pioglitazone\":\"metformin_pioglitazone\"})\n",
    "\n"
   ]
  },
  {
   "cell_type": "code",
   "execution_count": 22,
   "metadata": {},
   "outputs": [],
   "source": [
    "#Encoding: este proceso crea variables dummy para las variables categoricas (tanto nominales como ordinales)    \n",
    "race = pd.get_dummies(diabetic_data.race)\n",
    "gender = pd.get_dummies(diabetic_data.gender)\n",
    "age = pd.get_dummies(diabetic_data.age)   \n",
    " \n",
    "admission_type_id = pd.get_dummies(diabetic_data.admission_type_id)\n",
    "discharge_disposition_id = pd.get_dummies(diabetic_data.discharge_disposition_id)\n",
    "admission_source_id = pd.get_dummies(diabetic_data.admission_source_id)\n",
    "diag_1 = pd.get_dummies(diabetic_data.diag_1)\n",
    "diag_2 = pd.get_dummies(diabetic_data.diag_2)\n",
    "diag_3 = pd.get_dummies(diabetic_data.diag_3)\n",
    "\n",
    "max_glu_serum = pd.get_dummies(diabetic_data.max_glu_serum)\n",
    "A1Cresult = pd.get_dummies(diabetic_data.A1Cresult)\n",
    "\n",
    "metformin = pd.get_dummies(diabetic_data.metformin)\n",
    "metformin = metformin.rename(columns={\"Down\":\"Down_metformin\",\"No\":\"No_metformin\",\"Steady\":\"Steady_metformin\",\"Up\":\"Up_metformin\"})\n",
    "\n",
    "repaglinide = pd.get_dummies(diabetic_data.repaglinide)\n",
    "repaglinide = repaglinide.rename(columns={\"Down\":\"Down_repaglinide\",\"No\":\"No_repaglinide\",\"Steady\":\"Steady_repaglinide\",\"Up\":\"Up_repaglinide\"})\n",
    "\n",
    "nateglinide = pd.get_dummies(diabetic_data.nateglinide)\n",
    "nateglinide = nateglinide.rename(columns={\"Down\":\"Down_nateglinide\",\"No\":\"No_nateglinide\",\"Steady\":\"Steady_nateglinide\",\"Up\":\"Up_nateglinide\"})\n",
    "\n",
    "chlorpropamide = pd.get_dummies(diabetic_data.chlorpropamide)\n",
    "chlorpropamide = chlorpropamide.rename(columns={\"Down\":\"Down_chlorpropamide\",\"No\":\"No_chlorpropamide\",\"Steady\":\"Steady_chlorpropamide\",\"Up\":\"Up_chlorpropamide\"})\n",
    "\n",
    "glimepiride = pd.get_dummies(diabetic_data.glimepiride)\n",
    "glimepiride = glimepiride.rename(columns={\"Down\":\"Down_glimepiride\",\"No\":\"No_glimepiride\",\"Steady\":\"Steady_glimepiride\",\"Up\":\"Up_glimepiride\"})\n",
    "\n",
    "acetohexamide = pd.get_dummies(diabetic_data.acetohexamide)\n",
    "acetohexamide = acetohexamide.rename(columns={\"Down\":\"Down_acetohexamide\",\"No\":\"No_acetohexamide\",\"Steady\":\"Steady_acetohexamide\",\"Up\":\"Up_acetohexamide\"})\n",
    "\n",
    "glipizide = pd.get_dummies(diabetic_data.glipizide)\n",
    "glipizide = glipizide.rename(columns={\"Down\":\"Down_glipizide\",\"No\":\"No_glipizide\",\"Steady\":\"Steady_glipizide\",\"Up\":\"Up_glipizide\"})\n",
    "\n",
    "glyburide = pd.get_dummies(diabetic_data.glyburide)\n",
    "glyburide = glyburide.rename(columns={\"Down\":\"Down_glyburide\",\"No\":\"No_glyburide\",\"Steady\":\"Steady_glyburide\",\"Up\":\"Up_glyburide\"})\n",
    "\n",
    "tolbutamide = pd.get_dummies(diabetic_data.tolbutamide)\n",
    "tolbutamide = tolbutamide.rename(columns={\"Down\":\"Down_tolbutamide\",\"No\":\"No_tolbutamide\",\"Steady\":\"Steady_tolbutamide\",\"Up\":\"Up_tolbutamide\"})\n",
    "\n",
    "pioglitazone = pd.get_dummies(diabetic_data.pioglitazone)\n",
    "pioglitazone = pioglitazone.rename(columns={\"Down\":\"pioglitazone\",\"No\":\"pioglitazone\",\"Steady\":\"pioglitazone\",\"Up\":\"pioglitazone\"})\n",
    "\n",
    "rosiglitazone = pd.get_dummies(diabetic_data.rosiglitazone)\n",
    "rosiglitazone = rosiglitazone.rename(columns={\"Down\":\"rosiglitazone\",\"No\":\"rosiglitazone\",\"Steady\":\"rosiglitazone\",\"Up\":\"rosiglitazone\"})\n",
    "\n",
    "acarbose = pd.get_dummies(diabetic_data.acarbose)\n",
    "acarbose = acarbose.rename(columns={\"Down\":\"Down_acarbose\",\"No\":\"No_acarbose\",\"Steady\":\"Steady_acarbose\",\"Up\":\"Up_acarbose\"})\n",
    "\n",
    "miglitol = pd.get_dummies(diabetic_data.miglitol)\n",
    "miglitol = miglitol.rename(columns={\"Down\":\"Down_miglitol\",\"No\":\"No_miglitol\",\"Steady\":\"Steady_miglitol\",\"Up\":\"Up_miglitol\"})\n",
    "\n",
    "troglitazone = pd.get_dummies(diabetic_data.troglitazone)\n",
    "troglitazone = troglitazone.rename(columns={\"Down\":\"Down_troglitazone\",\"No\":\"No_troglitazone\",\"Steady\":\"Steady_troglitazone\",\"Up\":\"Up_troglitazone\"})\n",
    "\n",
    "tolazamide = pd.get_dummies(diabetic_data.tolazamide)\n",
    "tolazamide = tolazamide.rename(columns={\"Down\":\"Down_tolazamide\",\"No\":\"No_tolazamide\",\"Steady\":\"Steady_tolazamide\",\"Up\":\"Up_tolazamide\"})\n",
    "\n",
    "insulin = pd.get_dummies(diabetic_data.insulin)\n",
    "insulin = insulin.rename(columns={\"Down\":\"Down_insulin\",\"No\":\"No_insulin\",\"Steady\":\"Steady_insulin\",\"Up\":\"Up_insulin\"})\n",
    "\n",
    "glyburide_metformin = pd.get_dummies(diabetic_data.glyburide_metformin)\n",
    "glyburide_metformin = glyburide_metformin.rename(columns={\"Down\":\"Down_glyburide_metformin\",\"No\":\"No_glyburide_metformin\",\"Steady\":\"Steady_glyburide_metformin\",\"Up\":\"Up_glyburide_metformin\"})\n",
    "\n",
    "glipizide_metformin = pd.get_dummies(diabetic_data.glipizide_metformin)\n",
    "glipizide_metformin = glipizide_metformin.rename(columns={\"Down\":\"Down_glipizide_metformin\",\"No\":\"No_glipizide_metformin\",\"Steady\":\"Steady_glipizide_metformin\",\"Up\":\"Up_glipizide_metformin\"})\n",
    "\n",
    "glimepiride_pioglitazone = pd.get_dummies(diabetic_data.glimepiride_pioglitazone)\n",
    "glimepiride_pioglitazone = glimepiride_pioglitazone.rename(columns={\"Down\":\"Down_glimepiride_pioglitazone\",\"No\":\"No_glimepiride_pioglitazone\",\"Steady\":\"Steady_glimepiride_pioglitazone\",\"Up\":\"Up_glimepiride_pioglitazone\"})\n",
    "\n",
    "metformin_rosiglitazone = pd.get_dummies(diabetic_data.metformin_rosiglitazone)\n",
    "metformin_rosiglitazone = metformin_rosiglitazone.rename(columns={\"Down\":\"Down_metformin_rosiglitazone\",\"No\":\"No_metformin_rosiglitazone\",\"Steady\":\"Steady_metformin_rosiglitazone\",\"Up\":\"Up_metformin_rosiglitazone\"})\n",
    "\n",
    "metformin_pioglitazone = pd.get_dummies(diabetic_data.metformin_pioglitazone)\n",
    "metformin_pioglitazone = metformin_pioglitazone.rename(columns={\"Down\":\"Down_metformin_pioglitazone\",\"No\":\"No_metformin_pioglitazone\",\"Steady\":\"Steady_metformin_pioglitazone\",\"Up\":\"Up_metformin_pioglitazone\"})\n",
    "\n",
    "change = pd.get_dummies(diabetic_data.change)\n",
    "change = change.rename(columns={\"No\":\"No_change\",\"Yes\":\"Yes_change\"})\n",
    "diabetesMed = pd.get_dummies(diabetic_data.diabetesMed)\n",
    "diabetesMed = diabetesMed.rename(columns={\"No\":\"No_diabetesMed\",\"Yes\":\"Yes_diabetesMed\"})\n",
    "  "
   ]
  },
  {
   "cell_type": "code",
   "execution_count": 23,
   "metadata": {},
   "outputs": [],
   "source": [
    "# Se crea un data frame que contenga todos los data frames de las variables dummy\n",
    "data_frames = [race,gender,age,admission_type_id,discharge_disposition_id,admission_source_id,diag_1,diag_2,diag_3,max_glu_serum,A1Cresult,metformin,\n",
    "               repaglinide,nateglinide,chlorpropamide,glimepiride,glipizide,glyburide,tolbutamide,pioglitazone,rosiglitazone,acarbose,miglitol,\n",
    "               troglitazone,tolazamide,insulin,glyburide_metformin,glipizide_metformin,glimepiride_pioglitazone,metformin_pioglitazone,\n",
    "               change,diabetesMed]"
   ]
  },
  {
   "cell_type": "code",
   "execution_count": 24,
   "metadata": {},
   "outputs": [],
   "source": [
    "# Se unen todos los data sets de variables dummy en uno solo\n",
    "from functools import reduce\n",
    "features_cat = reduce(lambda left,right: pd.merge(left,right,right_index = True, left_index = True, how='left'), data_frames)"
   ]
  },
  {
   "cell_type": "markdown",
   "metadata": {},
   "source": [
    "### 2.9 Creación data set inicial de modelaje"
   ]
  },
  {
   "cell_type": "code",
   "execution_count": 25,
   "metadata": {},
   "outputs": [],
   "source": [
    "# Se une el data set de variables categoricas (encoded) con el de variables numericas (re-escaladas) para obtener el data set de modelaje\n",
    "features = pd.merge(features_cat, scaled_features, right_index = True, left_index = True, how='left')"
   ]
  },
  {
   "cell_type": "markdown",
   "metadata": {},
   "source": [
    "## 3. Modelaje y selección de variables"
   ]
  },
  {
   "cell_type": "markdown",
   "metadata": {},
   "source": [
    "### 3.1 Definición del modelo"
   ]
  },
  {
   "cell_type": "code",
   "execution_count": 28,
   "metadata": {},
   "outputs": [],
   "source": [
    "#MODELO: Se prueban 3 modelos: Arbol de desición, random forest y regresión logística\n",
    "\n",
    "model1 = DecisionTreeClassifier(max_depth=28, criterion = \"entropy\", min_samples_split=10)\n",
    "x_train1, x_test1, y_train1, y_test1 = train_test_split(features, labels, test_size=0.20, random_state=0)\n",
    "model1.fit(x_train1, y_train1)\n",
    "y_pred1 = model1.predict(x_test1)\n",
    "\n",
    "model2 = RandomForestClassifier(n_estimators=10, max_depth=25, criterion=\"gini\", random_state=0)\n",
    "x_train2, x_test2, y_train2, y_test2 = train_test_split(features, labels, test_size=0.20, random_state=0)\n",
    "model2.fit(x_train2, y_train2)\n",
    "y_pred2 = model2.predict(x_test2)\n",
    "\n",
    "model3 = LogisticRegression(fit_intercept=True, max_iter=800)\n",
    "x_train3, x_test3, y_train3, y_test3 = train_test_split(features, labels, test_size=0.20, random_state=0)\n",
    "model3.fit(x_train3, y_train3)\n",
    "y_pred3 = model3.predict(x_test3)"
   ]
  },
  {
   "cell_type": "markdown",
   "metadata": {},
   "source": [
    "### 3.2 Selección de variables"
   ]
  },
  {
   "cell_type": "code",
   "execution_count": 31,
   "metadata": {},
   "outputs": [
    {
     "name": "stdout",
     "output_type": "stream",
     "text": [
      "                Feature  Importance\n",
      "53              Other_y    0.012087\n",
      "15              [70-80)    0.012198\n",
      "44              Other_x    0.012298\n",
      "137    number_emergency    0.014123\n",
      "136   number_outpatient    0.018006\n",
      "134      num_procedures    0.041836\n",
      "132    time_in_hospital    0.058401\n",
      "138    number_inpatient    0.069419\n",
      "135     num_medications    0.105613\n",
      "133  num_lab_procedures    0.142062\n"
     ]
    },
    {
     "data": {
      "image/png": "[encoded data removed]",
      "text/plain": [
       "<Figure size 720x432 with 1 Axes>"
      ]
     },
     "metadata": {
      "needs_background": "light"
     },
     "output_type": "display_data"
    },
    {
     "name": "stdout",
     "output_type": "stream",
     "text": [
      "                Feature  Importance\n",
      "53              Other_y    0.012087\n",
      "15              [70-80)    0.012198\n",
      "44              Other_x    0.012298\n",
      "137    number_emergency    0.014123\n",
      "136   number_outpatient    0.018006\n",
      "134      num_procedures    0.041836\n",
      "132    time_in_hospital    0.058401\n",
      "138    number_inpatient    0.069419\n",
      "135     num_medications    0.105613\n",
      "133  num_lab_procedures    0.142062\n"
     ]
    },
    {
     "data": {
      "image/png": "[encoded data removed]",
      "text/plain": [
       "<Figure size 720x432 with 1 Axes>"
      ]
     },
     "metadata": {
      "needs_background": "light"
     },
     "output_type": "display_data"
    }
   ],
   "source": [
    "# Selección de variables: se crea una lista de la 10 variables más importantes ordenadas por relevancia\n",
    "# Desicion Tree\n",
    "feature_names = x_train1.columns\n",
    "feature_imports = model1.feature_importances_\n",
    "most_imp_features = pd.DataFrame([f for f in zip(feature_names,feature_imports)], columns=[\"Feature\", \"Importance\"]).nlargest(10, \"Importance\")\n",
    "most_imp_features.sort_values(by=\"Importance\", inplace=True)\n",
    "print(most_imp_features)\n",
    "plt.figure(figsize=(10,6))\n",
    "plt.barh(range(len(most_imp_features)), most_imp_features.Importance, align='center', alpha=0.8)\n",
    "plt.yticks(range(len(most_imp_features)), most_imp_features.Feature, fontsize=14)\n",
    "plt.xlabel('Importance')\n",
    "plt.title('Most important features - Desicion Tree')\n",
    "plt.show()\n",
    "# Random Forest\n",
    "feature_names = x_train1.columns\n",
    "feature_imports = model1.feature_importances_\n",
    "most_imp_features = pd.DataFrame([f for f in zip(feature_names,feature_imports)], columns=[\"Feature\", \"Importance\"]).nlargest(10, \"Importance\")\n",
    "most_imp_features.sort_values(by=\"Importance\", inplace=True)\n",
    "print(most_imp_features)\n",
    "plt.figure(figsize=(10,6))\n",
    "plt.barh(range(len(most_imp_features)), most_imp_features.Importance, align='center', alpha=0.8)\n",
    "plt.yticks(range(len(most_imp_features)), most_imp_features.Feature, fontsize=14)\n",
    "plt.xlabel('Importance')\n",
    "plt.title('Most important features - Random Forest')\n",
    "plt.show()"
   ]
  },
  {
   "cell_type": "markdown",
   "metadata": {},
   "source": [
    "### 3.3 Medición de desempeño del modelo"
   ]
  },
  {
   "cell_type": "code",
   "execution_count": 29,
   "metadata": {},
   "outputs": [
    {
     "name": "stdout",
     "output_type": "stream",
     "text": [
      "              precision    recall  f1-score   support\n",
      "\n",
      "           0       0.60      0.62      0.61     10738\n",
      "           1       0.53      0.51      0.52      9161\n",
      "\n",
      "    accuracy                           0.57     19899\n",
      "   macro avg       0.56      0.56      0.56     19899\n",
      "weighted avg       0.57      0.57      0.57     19899\n",
      "\n",
      "              precision    recall  f1-score   support\n",
      "\n",
      "           0       0.62      0.68      0.65     10738\n",
      "           1       0.58      0.52      0.55      9161\n",
      "\n",
      "    accuracy                           0.61     19899\n",
      "   macro avg       0.60      0.60      0.60     19899\n",
      "weighted avg       0.60      0.61      0.60     19899\n",
      "\n",
      "              precision    recall  f1-score   support\n",
      "\n",
      "           0       0.62      0.78      0.69     10738\n",
      "           1       0.63      0.44      0.52      9161\n",
      "\n",
      "    accuracy                           0.62     19899\n",
      "   macro avg       0.63      0.61      0.61     19899\n",
      "weighted avg       0.63      0.62      0.61     19899\n",
      "\n"
     ]
    },
    {
     "data": {
      "image/png": "[encoded data removed]",
      "text/plain": [
       "<Figure size 432x288 with 2 Axes>"
      ]
     },
     "metadata": {
      "needs_background": "light"
     },
     "output_type": "display_data"
    },
    {
     "data": {
      "image/png": "[encoded data removed]",
      "text/plain": [
       "<Figure size 432x288 with 2 Axes>"
      ]
     },
     "metadata": {
      "needs_background": "light"
     },
     "output_type": "display_data"
    },
    {
     "data": {
      "image/png": "[encoded data removed]",
      "text/plain": [
       "<Figure size 432x288 with 2 Axes>"
      ]
     },
     "metadata": {
      "needs_background": "light"
     },
     "output_type": "display_data"
    }
   ],
   "source": [
    "# Genera la matriz de confusión y las métricas (precision, recall, f1 score, accuracy)\n",
    "#Desicion Tree\n",
    "from sklearn.metrics import plot_confusion_matrix \n",
    "plot_confusion_matrix(model1, x_test1, y_test1,values_format = 'd',cmap = 'Blues') \n",
    "print(metrics.classification_report(y_test1, y_pred1))\n",
    "\n",
    "#Random Frest\n",
    "from sklearn.metrics import plot_confusion_matrix \n",
    "plot_confusion_matrix(model2, x_test2, y_test2,values_format = 'd',cmap = 'Blues') \n",
    "print(metrics.classification_report(y_test2, y_pred2))\n",
    "\n",
    "#Logistic Regression\n",
    "from sklearn.metrics import plot_confusion_matrix \n",
    "plot_confusion_matrix(model3, x_test3, y_test3,values_format = 'd',cmap = 'Blues') \n",
    "print(metrics.classification_report(y_test3, y_pred3))"
   ]
  }
 ],
 "metadata": {
  "kernelspec": {
   "display_name": "Python 3",
   "language": "python",
   "name": "python3"
  },
  "language_info": {
   "codemirror_mode": {
    "name": "ipython",
    "version": 3
   },
   "file_extension": ".py",
   "mimetype": "text/x-python",
   "name": "python",
   "nbconvert_exporter": "python",
   "pygments_lexer": "ipython3",
   "version": "3.7.6"
  }
 },
 "nbformat": 4,
 "nbformat_minor": 4
}
